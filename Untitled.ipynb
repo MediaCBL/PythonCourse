{
 "cells": [
  {
   "cell_type": "code",
   "execution_count": 1,
   "id": "20aa7f2d",
   "metadata": {},
   "outputs": [],
   "source": [
    "MyFile = open(\"TextTest.txt\")"
   ]
  },
  {
   "cell_type": "code",
   "execution_count": 2,
   "id": "3515d669",
   "metadata": {},
   "outputs": [
    {
     "data": {
      "text/plain": [
       "'Test file txt'"
      ]
     },
     "execution_count": 2,
     "metadata": {},
     "output_type": "execute_result"
    }
   ],
   "source": [
    "MyFile.read()"
   ]
  },
  {
   "cell_type": "code",
   "execution_count": 4,
   "id": "097ef3a3",
   "metadata": {},
   "outputs": [
    {
     "data": {
      "text/plain": [
       "''"
      ]
     },
     "execution_count": 4,
     "metadata": {},
     "output_type": "execute_result"
    }
   ],
   "source": [
    "MyFile.read()"
   ]
  },
  {
   "cell_type": "markdown",
   "id": "79049206",
   "metadata": {},
   "source": [
    "The reading cursor is at the end to read again seek the cursor at position 0 and read it after"
   ]
  },
  {
   "cell_type": "code",
   "execution_count": 6,
   "id": "8c939ec1",
   "metadata": {},
   "outputs": [
    {
     "data": {
      "text/plain": [
       "0"
      ]
     },
     "execution_count": 6,
     "metadata": {},
     "output_type": "execute_result"
    }
   ],
   "source": [
    "MyFile.seek(0)"
   ]
  },
  {
   "cell_type": "code",
   "execution_count": 10,
   "id": "30130153",
   "metadata": {},
   "outputs": [
    {
     "data": {
      "text/plain": [
       "'\\nLine2\\nLine3\\nLine4\\nLine5'"
      ]
     },
     "execution_count": 10,
     "metadata": {},
     "output_type": "execute_result"
    }
   ],
   "source": [
    "MyFile.read()"
   ]
  },
  {
   "cell_type": "code",
   "execution_count": 11,
   "id": "8fddbc9b",
   "metadata": {},
   "outputs": [],
   "source": [
    "with open(\"TextTest.txt\") as my_new_file:\n",
    "    contents = my_new_file.read()"
   ]
  },
  {
   "cell_type": "code",
   "execution_count": 12,
   "id": "a5130714",
   "metadata": {},
   "outputs": [
    {
     "data": {
      "text/plain": [
       "'Test file txt\\nLine2\\nLine3\\nLine4\\nLine5'"
      ]
     },
     "execution_count": 12,
     "metadata": {},
     "output_type": "execute_result"
    }
   ],
   "source": [
    "contents"
   ]
  },
  {
   "cell_type": "code",
   "execution_count": 13,
   "id": "92826820",
   "metadata": {},
   "outputs": [
    {
     "name": "stdout",
     "output_type": "stream",
     "text": [
      "Test file txt\n",
      "Line2\n",
      "Line3\n",
      "Line4\n",
      "Line5\n"
     ]
    }
   ],
   "source": [
    "print(contents)"
   ]
  },
  {
   "cell_type": "code",
   "execution_count": null,
   "id": "6187cf6d",
   "metadata": {},
   "outputs": [],
   "source": []
  }
 ],
 "metadata": {
  "kernelspec": {
   "display_name": "Python 3 (ipykernel)",
   "language": "python",
   "name": "python3"
  },
  "language_info": {
   "codemirror_mode": {
    "name": "ipython",
    "version": 3
   },
   "file_extension": ".py",
   "mimetype": "text/x-python",
   "name": "python",
   "nbconvert_exporter": "python",
   "pygments_lexer": "ipython3",
   "version": "3.9.7"
  }
 },
 "nbformat": 4,
 "nbformat_minor": 5
}
